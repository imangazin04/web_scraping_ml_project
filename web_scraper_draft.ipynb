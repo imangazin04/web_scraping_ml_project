{
 "cells": [
  {
   "cell_type": "code",
   "execution_count": 139,
   "id": "8870da06",
   "metadata": {},
   "outputs": [],
   "source": [
    "import pandas as pd\n",
    "import requests\n",
    "from bs4 import BeautifulSoup as bs\n",
    "from selenium import webdriver\n",
    "from selenium.webdriver.common.by import By\n",
    "from selenium.webdriver.support.ui import WebDriverWait\n",
    "from selenium.webdriver.support import expected_conditions as EC\n",
    "from sklearn.linear_model import LinearRegression\n",
    "from sklearn.model_selection import train_test_split\n",
    "from sklearn.ensemble import GradientBoostingRegressor\n",
    "from sklearn.metrics import mean_squared_error\n"
   ]
  },
  {
   "cell_type": "code",
   "execution_count": null,
   "id": "efa434be",
   "metadata": {},
   "outputs": [],
   "source": [
    "options = webdriver.ChromeOptions()\n",
    "# options.add_argument('--headless')\n",
    "driver = webdriver.Chrome(options=options)\n",
    "\n",
    "dan = pd.DataFrame(columns=['product', 'price', 'rating', 'recall', 'instalment', 'instalment_price', 'instalment_time'])"
   ]
  },
  {
   "cell_type": "code",
   "execution_count": 169,
   "id": "c780f63f",
   "metadata": {},
   "outputs": [
    {
     "name": "stdout",
     "output_type": "stream",
     "text": [
      "Done: 2\n",
      "Done: 3\n",
      "Done: 4\n",
      "Done: 5\n"
     ]
    }
   ],
   "source": [
    "try:\n",
    "    driver.get('https://kaspi.kz/shop/c/notebooks/')\n",
    "    wait = WebDriverWait(driver, 10)\n",
    "    driver.implicitly_wait(2)\n",
    "    # Ожидаем, пока появится элемент, чтобы кликнуть на него\n",
    "    city_to_click = wait.until(EC.presence_of_element_located((By.XPATH,'//*[@id=\"dialogService\"]/div/div[1]/div[1]/div/ul[1]/li[10]/a')))\n",
    "    city_to_click.click()\n",
    "    driver.implicitly_wait(2)\n",
    "    category_to_click = wait.until(EC.presence_of_element_located((By.XPATH, '//*[@id=\"page\"]/div[2]/nav/div/ul/li[5]/a/span')))\n",
    "    category_to_click.click()\n",
    "    driver.implicitly_wait(2)\n",
    "    subcategory_click = wait.until(EC.presence_of_element_located((By.XPATH, '//*[@id=\"scroll-to\"]/div[1]/div[1]/div/ul/li/ul/li[3]/span[1]')))\n",
    "    subcategory_click.click()\n",
    "    driver.implicitly_wait(2)\n",
    "    \n",
    "    select_product_click =  wait.until(EC.presence_of_element_located((By.XPATH, '//*[@id=\"scroll-to\"]/div[1]/div[1]/div/ul/li/ul/li/ul/li[1]/span[1]')))\n",
    "    select_product_click.click()\n",
    "    driver.implicitly_wait(2)\n",
    "    \n",
    "#     products = wait.until(\n",
    "#                 EC.presence_of_all_elements_located((By.CLASS_NAME, 'item-card__info'))\n",
    "#             )\n",
    "    soup = bs(driver.page_source, 'html.parser')\n",
    "    \n",
    "    page_value = 1\n",
    "#############################################\n",
    "    while True:\n",
    "        \n",
    "        wait.until(EC.presence_of_all_elements_located((By.CLASS_NAME, 'pagination')))\n",
    "        pagination = driver.find_element(By.CLASS_NAME, 'pagination')\n",
    "        pagination_elements = pagination.find_elements(By.CLASS_NAME, 'pagination__el')\n",
    "\n",
    "        try:\n",
    "            wait.until(EC.presence_of_all_elements_located((By.CLASS_NAME, 'item-card__info')))\n",
    "            driver.implicitly_wait(60)\n",
    "            requiredHtml = driver.page_source\n",
    "            soup = bs(requiredHtml, 'html.parser')\n",
    "\n",
    "            for cur in soup.find_all('div', class_='item-card__info'):\n",
    "                now_rating = re.findall(\"[0-9]+\", str(cur.select('span')[0]))\n",
    "                now_rating = int(now_rating[0])\n",
    "                now_price = cur.select('.item-card__prices-price')[0].getText().strip()\n",
    "                now_price = int(\"\".join(now_price[:-1].split()))\n",
    "                now_recall = cur.select('.item-card__rating')[0].getText().strip()\n",
    "                instalment = cur.select_one('.item-card__instalment .item-card__prices-title').get_text(strip=True)\n",
    "                instalment_price = cur.select_one('.item-card__instalment .item-card__prices-price').get_text(strip=True)\n",
    "                instalment_time = cur.select_one('.item-card__instalment .item-card__add-info').get_text(strip=True)\n",
    "                now_product = cur.select('a')[0].getText().strip()\n",
    "                dan.loc[len(dan.index)] = [now_product, now_price, now_rating, now_recall, instalment, instalment_price, instalment_time]\n",
    "            \n",
    "            page_value += 1\n",
    "            print('Done: ' + str(page_value))\n",
    "            next_button = pagination_elements[-1]\n",
    "            if 'disabled' in next_button.get_attribute('class'):\n",
    "                break\n",
    "            next_button.click()\n",
    "            driver.implicitly_wait(60)\n",
    "        except:\n",
    "            break\n",
    "\n",
    "except Exception as e:\n",
    "    print('Error: ' + str(e))\n",
    "    \n",
    "finally:\n",
    "    driver.quit()"
   ]
  },
  {
   "cell_type": "code",
   "execution_count": 176,
   "id": "651d348a",
   "metadata": {},
   "outputs": [
    {
     "name": "stdout",
     "output_type": "stream",
     "text": [
      "Done: 93\n"
     ]
    }
   ],
   "source": [
    "try:\n",
    "\n",
    "    while True:\n",
    "        \n",
    "        wait.until(EC.presence_of_all_elements_located((By.CLASS_NAME, 'pagination')))\n",
    "        pagination = driver.find_element(By.CLASS_NAME, 'pagination')\n",
    "        pagination_elements = pagination.find_elements(By.CLASS_NAME, 'pagination__el')\n",
    "\n",
    "        try:\n",
    "            wait.until(EC.presence_of_all_elements_located((By.CLASS_NAME, 'item-card__info')))\n",
    "            driver.implicitly_wait(60)\n",
    "            requiredHtml = driver.page_source\n",
    "            soup = bs(requiredHtml, 'html.parser')\n",
    "\n",
    "            for cur in soup.find_all('div', class_='item-card__info'):\n",
    "                now_rating = re.findall(\"[0-9]+\", str(cur.select('span')[0]))\n",
    "                now_rating = int(now_rating[0])\n",
    "                now_price = cur.select('.item-card__prices-price')[0].getText().strip()\n",
    "                now_price = int(\"\".join(now_price[:-1].split()))\n",
    "                now_recall = cur.select('.item-card__rating')[0].getText().strip()\n",
    "                instalment = cur.select_one('.item-card__instalment .item-card__prices-title').get_text(strip=True)\n",
    "                instalment_price = cur.select_one('.item-card__instalment .item-card__prices-price').get_text(strip=True)\n",
    "                instalment_time = cur.select_one('.item-card__instalment .item-card__add-info').get_text(strip=True)\n",
    "                now_product = cur.select('a')[0].getText().strip()\n",
    "                dan.loc[len(dan.index)] = [now_product, now_price, now_rating, now_recall, instalment, instalment_price, instalment_time]\n",
    "            \n",
    "            page_value += 1\n",
    "            print('Done: ' + str(page_value))\n",
    "            next_button = pagination_elements[-1]\n",
    "            if 'disabled' in next_button.get_attribute('class'):\n",
    "                break\n",
    "            next_button.click()\n",
    "            driver.implicitly_wait(60)\n",
    "        except:\n",
    "            break\n",
    "\n",
    "except Exception as e:\n",
    "    print('Error: ' + str(e))\n",
    "\n",
    "df = dan"
   ]
  },
  {
   "cell_type": "code",
   "execution_count": 205,
   "id": "e9df2378",
   "metadata": {},
   "outputs": [],
   "source": [
    "df.replace('', pd.NA, inplace=True)\n",
    "df.to_csv('./Data/product_data_almaty.csv', sep=';', index=False, encoding='utf-8')"
   ]
  },
  {
   "cell_type": "code",
   "execution_count": 185,
   "id": "3bb296c5",
   "metadata": {},
   "outputs": [
    {
     "name": "stdout",
     "output_type": "stream",
     "text": [
      "<class 'pandas.core.frame.DataFrame'>\n",
      "Int64Index: 1104 entries, 0 to 1103\n",
      "Data columns (total 7 columns):\n",
      " #   Column            Non-Null Count  Dtype \n",
      "---  ------            --------------  ----- \n",
      " 0   product           1104 non-null   object\n",
      " 1   price             1104 non-null   int64 \n",
      " 2   rating            1104 non-null   int64 \n",
      " 3   recall            696 non-null    object\n",
      " 4   instalment        1104 non-null   object\n",
      " 5   instalment_price  1104 non-null   object\n",
      " 6   instalment_time   1104 non-null   object\n",
      "dtypes: int64(2), object(5)\n",
      "memory usage: 69.0+ KB\n"
     ]
    }
   ],
   "source": [
    "df.info()"
   ]
  },
  {
   "cell_type": "code",
   "execution_count": 199,
   "id": "070a5485",
   "metadata": {},
   "outputs": [
    {
     "data": {
      "text/plain": [
       "Index(['product', 'price', 'rating', 'recall', 'instalment',\n",
       "       'instalment_price', 'instalment_time'],\n",
       "      dtype='object')"
      ]
     },
     "execution_count": 199,
     "metadata": {},
     "output_type": "execute_result"
    }
   ],
   "source": [
    "df.columns"
   ]
  },
  {
   "cell_type": "code",
   "execution_count": 187,
   "id": "e4c41588",
   "metadata": {},
   "outputs": [
    {
     "data": {
      "text/plain": [
       "product               0\n",
       "price                 0\n",
       "rating                0\n",
       "recall              408\n",
       "instalment            0\n",
       "instalment_price      0\n",
       "instalment_time       0\n",
       "dtype: int64"
      ]
     },
     "execution_count": 187,
     "metadata": {},
     "output_type": "execute_result"
    }
   ],
   "source": [
    "df.isna().sum()"
   ]
  },
  {
   "cell_type": "code",
   "execution_count": 200,
   "id": "414f2a15",
   "metadata": {},
   "outputs": [
    {
     "data": {
      "text/html": [
       "<div>\n",
       "<style scoped>\n",
       "    .dataframe tbody tr th:only-of-type {\n",
       "        vertical-align: middle;\n",
       "    }\n",
       "\n",
       "    .dataframe tbody tr th {\n",
       "        vertical-align: top;\n",
       "    }\n",
       "\n",
       "    .dataframe thead th {\n",
       "        text-align: right;\n",
       "    }\n",
       "</style>\n",
       "<table border=\"1\" class=\"dataframe\">\n",
       "  <thead>\n",
       "    <tr style=\"text-align: right;\">\n",
       "      <th></th>\n",
       "      <th>price</th>\n",
       "      <th>rating</th>\n",
       "    </tr>\n",
       "  </thead>\n",
       "  <tbody>\n",
       "    <tr>\n",
       "      <th>count</th>\n",
       "      <td>1.104000e+03</td>\n",
       "      <td>1104.000000</td>\n",
       "    </tr>\n",
       "    <tr>\n",
       "      <th>mean</th>\n",
       "      <td>5.037540e+05</td>\n",
       "      <td>6.636775</td>\n",
       "    </tr>\n",
       "    <tr>\n",
       "      <th>std</th>\n",
       "      <td>3.608384e+05</td>\n",
       "      <td>4.509419</td>\n",
       "    </tr>\n",
       "    <tr>\n",
       "      <th>min</th>\n",
       "      <td>2.290000e+03</td>\n",
       "      <td>0.000000</td>\n",
       "    </tr>\n",
       "    <tr>\n",
       "      <th>25%</th>\n",
       "      <td>2.599900e+05</td>\n",
       "      <td>0.000000</td>\n",
       "    </tr>\n",
       "    <tr>\n",
       "      <th>50%</th>\n",
       "      <td>4.200000e+05</td>\n",
       "      <td>10.000000</td>\n",
       "    </tr>\n",
       "    <tr>\n",
       "      <th>75%</th>\n",
       "      <td>5.999900e+05</td>\n",
       "      <td>10.000000</td>\n",
       "    </tr>\n",
       "    <tr>\n",
       "      <th>max</th>\n",
       "      <td>2.329990e+06</td>\n",
       "      <td>10.000000</td>\n",
       "    </tr>\n",
       "  </tbody>\n",
       "</table>\n",
       "</div>"
      ],
      "text/plain": [
       "              price       rating\n",
       "count  1.104000e+03  1104.000000\n",
       "mean   5.037540e+05     6.636775\n",
       "std    3.608384e+05     4.509419\n",
       "min    2.290000e+03     0.000000\n",
       "25%    2.599900e+05     0.000000\n",
       "50%    4.200000e+05    10.000000\n",
       "75%    5.999900e+05    10.000000\n",
       "max    2.329990e+06    10.000000"
      ]
     },
     "execution_count": 200,
     "metadata": {},
     "output_type": "execute_result"
    }
   ],
   "source": [
    "df[['price', 'rating']].describe()"
   ]
  },
  {
   "cell_type": "code",
   "execution_count": 201,
   "id": "3d6a1763",
   "metadata": {},
   "outputs": [
    {
     "data": {
      "text/html": [
       "<div>\n",
       "<style scoped>\n",
       "    .dataframe tbody tr th:only-of-type {\n",
       "        vertical-align: middle;\n",
       "    }\n",
       "\n",
       "    .dataframe tbody tr th {\n",
       "        vertical-align: top;\n",
       "    }\n",
       "\n",
       "    .dataframe thead th {\n",
       "        text-align: right;\n",
       "    }\n",
       "</style>\n",
       "<table border=\"1\" class=\"dataframe\">\n",
       "  <thead>\n",
       "    <tr style=\"text-align: right;\">\n",
       "      <th></th>\n",
       "      <th>product</th>\n",
       "      <th>recall</th>\n",
       "      <th>instalment</th>\n",
       "      <th>instalment_price</th>\n",
       "      <th>instalment_time</th>\n",
       "    </tr>\n",
       "  </thead>\n",
       "  <tbody>\n",
       "    <tr>\n",
       "      <th>count</th>\n",
       "      <td>1104</td>\n",
       "      <td>696</td>\n",
       "      <td>1104</td>\n",
       "      <td>1104</td>\n",
       "      <td>1104</td>\n",
       "    </tr>\n",
       "    <tr>\n",
       "      <th>unique</th>\n",
       "      <td>857</td>\n",
       "      <td>59</td>\n",
       "      <td>2</td>\n",
       "      <td>607</td>\n",
       "      <td>3</td>\n",
       "    </tr>\n",
       "    <tr>\n",
       "      <th>top</th>\n",
       "      <td>Lenovo IdeaPad 3 15ALC6 82KU009MRK серый</td>\n",
       "      <td>(1 отзыв)</td>\n",
       "      <td>В кредит</td>\n",
       "      <td>25 306 ₸</td>\n",
       "      <td>x24</td>\n",
       "    </tr>\n",
       "    <tr>\n",
       "      <th>freq</th>\n",
       "      <td>4</td>\n",
       "      <td>128</td>\n",
       "      <td>1029</td>\n",
       "      <td>20</td>\n",
       "      <td>1026</td>\n",
       "    </tr>\n",
       "  </tbody>\n",
       "</table>\n",
       "</div>"
      ],
      "text/plain": [
       "                                         product     recall instalment  \\\n",
       "count                                       1104        696       1104   \n",
       "unique                                       857         59          2   \n",
       "top     Lenovo IdeaPad 3 15ALC6 82KU009MRK серый  (1 отзыв)   В кредит   \n",
       "freq                                           4        128       1029   \n",
       "\n",
       "       instalment_price instalment_time  \n",
       "count              1104            1104  \n",
       "unique              607               3  \n",
       "top            25 306 ₸             x24  \n",
       "freq                 20            1026  "
      ]
     },
     "execution_count": 201,
     "metadata": {},
     "output_type": "execute_result"
    }
   ],
   "source": [
    "df[['product', 'recall', 'instalment',\n",
    "       'instalment_price', 'instalment_time']].describe()"
   ]
  },
  {
   "cell_type": "code",
   "execution_count": 203,
   "id": "3cd5e208",
   "metadata": {},
   "outputs": [
    {
     "data": {
      "text/html": [
       "<div>\n",
       "<style scoped>\n",
       "    .dataframe tbody tr th:only-of-type {\n",
       "        vertical-align: middle;\n",
       "    }\n",
       "\n",
       "    .dataframe tbody tr th {\n",
       "        vertical-align: top;\n",
       "    }\n",
       "\n",
       "    .dataframe thead th {\n",
       "        text-align: right;\n",
       "    }\n",
       "</style>\n",
       "<table border=\"1\" class=\"dataframe\">\n",
       "  <thead>\n",
       "    <tr style=\"text-align: right;\">\n",
       "      <th></th>\n",
       "      <th>product</th>\n",
       "      <th>price</th>\n",
       "      <th>rating</th>\n",
       "      <th>recall</th>\n",
       "      <th>instalment</th>\n",
       "      <th>instalment_price</th>\n",
       "      <th>instalment_time</th>\n",
       "    </tr>\n",
       "  </thead>\n",
       "  <tbody>\n",
       "    <tr>\n",
       "      <th>0</th>\n",
       "      <td>Creative Bracket UN-60</td>\n",
       "      <td>2290</td>\n",
       "      <td>9</td>\n",
       "      <td>(221 отзыв)</td>\n",
       "      <td>В рассрочку</td>\n",
       "      <td>764 ₸</td>\n",
       "      <td>x3</td>\n",
       "    </tr>\n",
       "    <tr>\n",
       "      <th>1</th>\n",
       "      <td>Lenovo IdeaPad 3 15IGL05 81WQ00JBRK серый</td>\n",
       "      <td>129990</td>\n",
       "      <td>9</td>\n",
       "      <td>(36 отзывов)</td>\n",
       "      <td>В кредит</td>\n",
       "      <td>8 225 ₸</td>\n",
       "      <td>x24</td>\n",
       "    </tr>\n",
       "  </tbody>\n",
       "</table>\n",
       "</div>"
      ],
      "text/plain": [
       "                                     product   price  rating        recall  \\\n",
       "0                     Creative Bracket UN-60    2290       9   (221 отзыв)   \n",
       "1  Lenovo IdeaPad 3 15IGL05 81WQ00JBRK серый  129990       9  (36 отзывов)   \n",
       "\n",
       "    instalment instalment_price instalment_time  \n",
       "0  В рассрочку            764 ₸              x3  \n",
       "1     В кредит          8 225 ₸             x24  "
      ]
     },
     "execution_count": 203,
     "metadata": {},
     "output_type": "execute_result"
    }
   ],
   "source": [
    "df.head(2)"
   ]
  },
  {
   "cell_type": "code",
   "execution_count": 215,
   "id": "edb1389c",
   "metadata": {},
   "outputs": [],
   "source": [
    "df['new_recall'] = df['recall'].str.extract('(\\d+)').fillna(0).astype(int)"
   ]
  },
  {
   "cell_type": "code",
   "execution_count": 216,
   "id": "afa31778",
   "metadata": {},
   "outputs": [],
   "source": [
    "df['new_instalment'] = df['instalment'].apply(lambda x: 1 if x == 'В кредит' else 0)\n",
    "df['new_instalment_price'] = df['instalment_price'].str.replace('₸', '').str.replace(' ', '').astype(int)\n",
    "df['new_instalment_time'] = df['instalment_time'].str.extract('(\\d+)').astype(int)\n"
   ]
  },
  {
   "cell_type": "code",
   "execution_count": 217,
   "id": "21c33bba",
   "metadata": {},
   "outputs": [
    {
     "data": {
      "text/html": [
       "<div>\n",
       "<style scoped>\n",
       "    .dataframe tbody tr th:only-of-type {\n",
       "        vertical-align: middle;\n",
       "    }\n",
       "\n",
       "    .dataframe tbody tr th {\n",
       "        vertical-align: top;\n",
       "    }\n",
       "\n",
       "    .dataframe thead th {\n",
       "        text-align: right;\n",
       "    }\n",
       "</style>\n",
       "<table border=\"1\" class=\"dataframe\">\n",
       "  <thead>\n",
       "    <tr style=\"text-align: right;\">\n",
       "      <th></th>\n",
       "      <th>product</th>\n",
       "      <th>price</th>\n",
       "      <th>rating</th>\n",
       "      <th>recall</th>\n",
       "      <th>instalment</th>\n",
       "      <th>instalment_price</th>\n",
       "      <th>instalment_time</th>\n",
       "      <th>new_recall</th>\n",
       "      <th>new_instalment</th>\n",
       "      <th>new_instalment_price</th>\n",
       "      <th>new_instalment_time</th>\n",
       "    </tr>\n",
       "  </thead>\n",
       "  <tbody>\n",
       "    <tr>\n",
       "      <th>0</th>\n",
       "      <td>Creative Bracket UN-60</td>\n",
       "      <td>2290</td>\n",
       "      <td>9</td>\n",
       "      <td>(221 отзыв)</td>\n",
       "      <td>В рассрочку</td>\n",
       "      <td>764 ₸</td>\n",
       "      <td>x3</td>\n",
       "      <td>221</td>\n",
       "      <td>0</td>\n",
       "      <td>764</td>\n",
       "      <td>3</td>\n",
       "    </tr>\n",
       "    <tr>\n",
       "      <th>1</th>\n",
       "      <td>Lenovo IdeaPad 3 15IGL05 81WQ00JBRK серый</td>\n",
       "      <td>129990</td>\n",
       "      <td>9</td>\n",
       "      <td>(36 отзывов)</td>\n",
       "      <td>В кредит</td>\n",
       "      <td>8 225 ₸</td>\n",
       "      <td>x24</td>\n",
       "      <td>36</td>\n",
       "      <td>1</td>\n",
       "      <td>8225</td>\n",
       "      <td>24</td>\n",
       "    </tr>\n",
       "    <tr>\n",
       "      <th>2</th>\n",
       "      <td>Apple MacBook Air 13 MGN63 серый</td>\n",
       "      <td>448479</td>\n",
       "      <td>10</td>\n",
       "      <td>(388 отзывов)</td>\n",
       "      <td>В рассрочку</td>\n",
       "      <td>37 374 ₸</td>\n",
       "      <td>x12</td>\n",
       "      <td>388</td>\n",
       "      <td>0</td>\n",
       "      <td>37374</td>\n",
       "      <td>12</td>\n",
       "    </tr>\n",
       "    <tr>\n",
       "      <th>3</th>\n",
       "      <td>Lenovo IdeaPad Gaming 3 16IAH7 82SA00FARK темн...</td>\n",
       "      <td>422899</td>\n",
       "      <td>10</td>\n",
       "      <td>(25 отзывов)</td>\n",
       "      <td>В кредит</td>\n",
       "      <td>26 756 ₸</td>\n",
       "      <td>x24</td>\n",
       "      <td>25</td>\n",
       "      <td>1</td>\n",
       "      <td>26756</td>\n",
       "      <td>24</td>\n",
       "    </tr>\n",
       "    <tr>\n",
       "      <th>4</th>\n",
       "      <td>Lenovo IdeaPad 1 15ADA7 82R10055RK серый</td>\n",
       "      <td>196410</td>\n",
       "      <td>10</td>\n",
       "      <td>(17 отзывов)</td>\n",
       "      <td>В кредит</td>\n",
       "      <td>12 427 ₸</td>\n",
       "      <td>x24</td>\n",
       "      <td>17</td>\n",
       "      <td>1</td>\n",
       "      <td>12427</td>\n",
       "      <td>24</td>\n",
       "    </tr>\n",
       "  </tbody>\n",
       "</table>\n",
       "</div>"
      ],
      "text/plain": [
       "                                             product   price  rating  \\\n",
       "0                             Creative Bracket UN-60    2290       9   \n",
       "1          Lenovo IdeaPad 3 15IGL05 81WQ00JBRK серый  129990       9   \n",
       "2                   Apple MacBook Air 13 MGN63 серый  448479      10   \n",
       "3  Lenovo IdeaPad Gaming 3 16IAH7 82SA00FARK темн...  422899      10   \n",
       "4           Lenovo IdeaPad 1 15ADA7 82R10055RK серый  196410      10   \n",
       "\n",
       "          recall   instalment instalment_price instalment_time  new_recall  \\\n",
       "0    (221 отзыв)  В рассрочку            764 ₸              x3         221   \n",
       "1   (36 отзывов)     В кредит          8 225 ₸             x24          36   \n",
       "2  (388 отзывов)  В рассрочку         37 374 ₸             x12         388   \n",
       "3   (25 отзывов)     В кредит         26 756 ₸             x24          25   \n",
       "4   (17 отзывов)     В кредит         12 427 ₸             x24          17   \n",
       "\n",
       "   new_instalment  new_instalment_price  new_instalment_time  \n",
       "0               0                   764                    3  \n",
       "1               1                  8225                   24  \n",
       "2               0                 37374                   12  \n",
       "3               1                 26756                   24  \n",
       "4               1                 12427                   24  "
      ]
     },
     "execution_count": 217,
     "metadata": {},
     "output_type": "execute_result"
    }
   ],
   "source": [
    "df.head()"
   ]
  },
  {
   "cell_type": "code",
   "execution_count": 218,
   "id": "d613fd0d",
   "metadata": {},
   "outputs": [
    {
     "data": {
      "text/plain": [
       "Index(['product', 'price', 'rating', 'recall', 'instalment',\n",
       "       'instalment_price', 'instalment_time', 'new_recall', 'new_instalment',\n",
       "       'new_instalment_price', 'new_instalment_time'],\n",
       "      dtype='object')"
      ]
     },
     "execution_count": 218,
     "metadata": {},
     "output_type": "execute_result"
    }
   ],
   "source": [
    "df.columns"
   ]
  },
  {
   "cell_type": "code",
   "execution_count": 220,
   "id": "cf7b3958",
   "metadata": {},
   "outputs": [
    {
     "data": {
      "text/html": [
       "<div>\n",
       "<style scoped>\n",
       "    .dataframe tbody tr th:only-of-type {\n",
       "        vertical-align: middle;\n",
       "    }\n",
       "\n",
       "    .dataframe tbody tr th {\n",
       "        vertical-align: top;\n",
       "    }\n",
       "\n",
       "    .dataframe thead th {\n",
       "        text-align: right;\n",
       "    }\n",
       "</style>\n",
       "<table border=\"1\" class=\"dataframe\">\n",
       "  <thead>\n",
       "    <tr style=\"text-align: right;\">\n",
       "      <th></th>\n",
       "      <th>price</th>\n",
       "      <th>rating</th>\n",
       "      <th>new_recall</th>\n",
       "      <th>new_instalment</th>\n",
       "      <th>new_instalment_price</th>\n",
       "      <th>new_instalment_time</th>\n",
       "    </tr>\n",
       "  </thead>\n",
       "  <tbody>\n",
       "    <tr>\n",
       "      <th>count</th>\n",
       "      <td>1.104000e+03</td>\n",
       "      <td>1104.000000</td>\n",
       "      <td>1104.000000</td>\n",
       "      <td>1104.000000</td>\n",
       "      <td>1104.000000</td>\n",
       "      <td>1104.000000</td>\n",
       "    </tr>\n",
       "    <tr>\n",
       "      <th>mean</th>\n",
       "      <td>5.037540e+05</td>\n",
       "      <td>6.636775</td>\n",
       "      <td>8.169384</td>\n",
       "      <td>0.932065</td>\n",
       "      <td>33088.119565</td>\n",
       "      <td>23.103261</td>\n",
       "    </tr>\n",
       "    <tr>\n",
       "      <th>std</th>\n",
       "      <td>3.608384e+05</td>\n",
       "      <td>4.509419</td>\n",
       "      <td>25.500846</td>\n",
       "      <td>0.251748</td>\n",
       "      <td>25349.276388</td>\n",
       "      <td>3.315699</td>\n",
       "    </tr>\n",
       "    <tr>\n",
       "      <th>min</th>\n",
       "      <td>2.290000e+03</td>\n",
       "      <td>0.000000</td>\n",
       "      <td>0.000000</td>\n",
       "      <td>0.000000</td>\n",
       "      <td>764.000000</td>\n",
       "      <td>3.000000</td>\n",
       "    </tr>\n",
       "    <tr>\n",
       "      <th>25%</th>\n",
       "      <td>2.599900e+05</td>\n",
       "      <td>0.000000</td>\n",
       "      <td>0.000000</td>\n",
       "      <td>1.000000</td>\n",
       "      <td>16449.000000</td>\n",
       "      <td>24.000000</td>\n",
       "    </tr>\n",
       "    <tr>\n",
       "      <th>50%</th>\n",
       "      <td>4.200000e+05</td>\n",
       "      <td>10.000000</td>\n",
       "      <td>2.000000</td>\n",
       "      <td>1.000000</td>\n",
       "      <td>26572.000000</td>\n",
       "      <td>24.000000</td>\n",
       "    </tr>\n",
       "    <tr>\n",
       "      <th>75%</th>\n",
       "      <td>5.999900e+05</td>\n",
       "      <td>10.000000</td>\n",
       "      <td>8.000000</td>\n",
       "      <td>1.000000</td>\n",
       "      <td>38053.250000</td>\n",
       "      <td>24.000000</td>\n",
       "    </tr>\n",
       "    <tr>\n",
       "      <th>max</th>\n",
       "      <td>2.329990e+06</td>\n",
       "      <td>10.000000</td>\n",
       "      <td>388.000000</td>\n",
       "      <td>1.000000</td>\n",
       "      <td>178479.000000</td>\n",
       "      <td>24.000000</td>\n",
       "    </tr>\n",
       "  </tbody>\n",
       "</table>\n",
       "</div>"
      ],
      "text/plain": [
       "              price       rating   new_recall  new_instalment  \\\n",
       "count  1.104000e+03  1104.000000  1104.000000     1104.000000   \n",
       "mean   5.037540e+05     6.636775     8.169384        0.932065   \n",
       "std    3.608384e+05     4.509419    25.500846        0.251748   \n",
       "min    2.290000e+03     0.000000     0.000000        0.000000   \n",
       "25%    2.599900e+05     0.000000     0.000000        1.000000   \n",
       "50%    4.200000e+05    10.000000     2.000000        1.000000   \n",
       "75%    5.999900e+05    10.000000     8.000000        1.000000   \n",
       "max    2.329990e+06    10.000000   388.000000        1.000000   \n",
       "\n",
       "       new_instalment_price  new_instalment_time  \n",
       "count           1104.000000          1104.000000  \n",
       "mean           33088.119565            23.103261  \n",
       "std            25349.276388             3.315699  \n",
       "min              764.000000             3.000000  \n",
       "25%            16449.000000            24.000000  \n",
       "50%            26572.000000            24.000000  \n",
       "75%            38053.250000            24.000000  \n",
       "max           178479.000000            24.000000  "
      ]
     },
     "execution_count": 220,
     "metadata": {},
     "output_type": "execute_result"
    }
   ],
   "source": [
    "df[['price', 'rating', 'new_recall', 'new_instalment',\n",
    "       'new_instalment_price', 'new_instalment_time']].describe()"
   ]
  },
  {
   "cell_type": "code",
   "execution_count": 222,
   "id": "900de48b",
   "metadata": {},
   "outputs": [
    {
     "name": "stdout",
     "output_type": "stream",
     "text": [
      "Среднеквадратичная ошибка: 18.821316657205983\n"
     ]
    }
   ],
   "source": [
    "X = df[['price', 'new_recall', 'new_instalment', 'new_instalment_price', 'new_instalment_time']]\n",
    "y = df['rating']\n",
    "\n",
    "X_train, X_test, y_train, y_test = train_test_split(X, y, test_size=0.2, random_state=42)\n",
    "model = LinearRegression()\n",
    "model.fit(X_train, y_train)\n",
    "y_pred = model.predict(X_test)\n",
    "mse = mean_squared_error(y_test, y_pred)\n",
    "print(f\"Среднеквадратичная ошибка: {mse}\")"
   ]
  },
  {
   "cell_type": "code",
   "execution_count": 223,
   "id": "a9e82b75",
   "metadata": {},
   "outputs": [
    {
     "name": "stdout",
     "output_type": "stream",
     "text": [
      "Среднеквадратичная ошибка: 5.203381473767461\n"
     ]
    }
   ],
   "source": [
    "X = df[['price', 'new_recall', 'new_instalment', 'new_instalment_price', 'new_instalment_time']]\n",
    "y = df['rating']\n",
    "X_train, X_test, y_train, y_test = train_test_split(X, y, test_size=0.2, random_state=42)\n",
    "model = GradientBoostingRegressor(random_state=42)\n",
    "model.fit(X_train, y_train)\n",
    "y_pred = model.predict(X_test)\n",
    "mse = mean_squared_error(y_test, y_pred)\n",
    "print(f\"Среднеквадратичная ошибка: {mse}\")"
   ]
  },
  {
   "cell_type": "code",
   "execution_count": 233,
   "id": "deed9546",
   "metadata": {},
   "outputs": [
    {
     "name": "stdout",
     "output_type": "stream",
     "text": [
      "Среднеквадратичная ошибка: 5.203381473767461\n",
      "Предсказанный рейтинг: [ 9.95583732  0.90571247  9.662328    0.90571247  0.77575934  9.86319987\n",
      "  9.71406156  9.54008249  0.77575934  9.61920088  8.83936127  9.56026877\n",
      "  9.43596466  1.07482259  9.64572723  5.45076931  0.69670309  1.10269138\n",
      "  0.29539621  9.54008249  0.77575934 10.07527154  2.51222166  0.9387072\n",
      "  5.45076931  3.99218945  9.8066153   9.61920088  0.77575934  9.63938716\n",
      "  5.55457548  9.5293241   1.10269138  0.77575934  0.9387072   9.45495734\n",
      "  9.5661996   8.99336996  8.91301364  9.54008249  9.56060208  9.4710125\n",
      "  9.62216042  0.48133195  9.89207376  3.49182734  9.88918557  0.84127435\n",
      "  9.5293241   0.42574609  9.56026877  0.69670309  9.64572723  9.05751075\n",
      "  9.15344273  9.89207376  1.91264581  0.69670309  9.24766791  0.90571247\n",
      "  9.8637685   9.40471807  0.91234622 10.04129579  9.72484562  0.76066864\n",
      "  3.74379654  5.19029936  9.6407138   9.48724428  9.68441251  9.48724428\n",
      "  3.91563371  9.38294808  9.40471807  9.61920088  0.77575934  9.5661996\n",
      "  0.76066864  9.78642902  9.40471807  1.27252359  0.69670309  9.8637685\n",
      "  9.40471807  1.89583898  9.45495734  9.45425053  9.95576075  0.38987226\n",
      "  0.42574609  0.40711978  9.48287634  0.69670309  9.9948303   9.56060208\n",
      "  9.78642902  0.90571247  9.73649518  9.48724428  9.56060208  9.93097027\n",
      "  9.72484562 10.09130126  0.9387072   9.95583732  9.78642902  0.66736443\n",
      "  9.56026877  9.5661996   9.55353871  9.47514361  9.5683348   9.95576075\n",
      "  9.55176539  0.80651423  9.43596466  9.73332456  9.89207376  9.56060208\n",
      "  1.07482259  0.29539621  1.10269138  1.07482259  3.79314576  9.0274399\n",
      "  1.10269138  9.8637685   9.54008249  9.49990518  9.51909813  9.63938716\n",
      "  9.26937711  9.63616445  9.60509675  9.54008249  0.90571247  9.19509454\n",
      "  3.99218945  9.55353871  0.69670309  0.47156303  9.56060208  9.47514361\n",
      "  3.79314576  9.42485997  3.79314576  9.8691339   0.90571247  9.5661996\n",
      "  9.69055521  0.90571247  0.9387072   0.76066864  0.90571247  9.44504624\n",
      "  9.40471807  9.5293241   0.76066864  9.76729196  0.90571247  0.83300799\n",
      "  9.56073085  9.72484562 11.4257667   1.07482259  9.64572723  9.8066153\n",
      "  9.45495734  3.11559055  9.60509675  9.66028699  9.54008249  1.34478232\n",
      "  9.56060208  0.66736443  9.48287634  1.03513644  9.68213371  9.76729196\n",
      "  9.95576075  9.52683085  9.56026877  9.56026877  0.90571247  1.10269138\n",
      " 10.04129579  9.49990518  9.69055521  9.61920088  9.85056981  9.56026877\n",
      "  0.62050398 10.28556251  0.76066864  9.56060208 10.18891887  9.56060208\n",
      "  0.77575934  9.45495734  9.8066153   0.77575934  9.68995883  9.29916565\n",
      "  9.03384488  9.15344273  9.88567195  9.49990518  0.87965684  2.51222166\n",
      "  9.52683085  7.98221886  9.65741013  1.75348972  9.95576075  9.46269006\n",
      "  9.54008249  9.78642902  9.93102556  9.56060208  0.66736443]\n"
     ]
    }
   ],
   "source": [
    "X = df[['price', 'new_recall', 'new_instalment', 'new_instalment_price', 'new_instalment_time']]\n",
    "y = df['rating']\n",
    "def train_and_predict_rating(X, y):\n",
    "    X_train, X_test, y_train, y_test = train_test_split(X, y, test_size=0.2, random_state=42)\n",
    "    model = GradientBoostingRegressor(random_state=42)\n",
    "    model.fit(X_train, y_train)\n",
    "    y_pred = model.predict(X_test)\n",
    "    mse = mean_squared_error(y_test, y_pred)\n",
    "    return mse, y_pred\n",
    "\n",
    "mse_result, y_pred_result = train_and_predict_rating(X, y)\n",
    "\n",
    "print(f\"Среднеквадратичная ошибка: {mse_result}\")\n",
    "print(\"Предсказанный рейтинг:\", y_pred_result)"
   ]
  },
  {
   "cell_type": "code",
   "execution_count": 236,
   "id": "d3f251a7",
   "metadata": {},
   "outputs": [
    {
     "name": "stdout",
     "output_type": "stream",
     "text": [
      "X train values: \n",
      "    price  new_recall  new_instalment  new_instalment_price  \\\n",
      "4   1800          80               1                   900   \n",
      "2   3000         200               1                  1000   \n",
      "0   2000         100               1                   800   \n",
      "3   2500         150               0                   600   \n",
      "\n",
      "   new_instalment_time  \n",
      "4                    5  \n",
      "2                    4  \n",
      "0                    3  \n",
      "3                    8  \n",
      "X test values: \n",
      "    price  new_recall  new_instalment  new_instalment_price  \\\n",
      "1   1500          50               0                   400   \n",
      "\n",
      "   new_instalment_time  \n",
      "1                    6  \n",
      "y train values: \n",
      " 4    7\n",
      "2    9\n",
      "0    8\n",
      "3    8\n",
      "Name: rating, dtype: int64\n",
      "y test values: \n",
      " 1    7\n",
      "Name: rating, dtype: int64\n",
      "Среднеквадратичная ошибка: 0.017138672162954286\n",
      "Предсказанный рейтинг: [7.13091475]\n"
     ]
    }
   ],
   "source": [
    "data = {\n",
    "    'price': [2000, 1500, 3000, 2500, 1800],\n",
    "    'new_recall': [100, 50, 200, 150, 80],\n",
    "    'new_instalment': [1, 0, 1, 0, 1],\n",
    "    'new_instalment_price': [800, 400, 1000, 600, 900],\n",
    "    'new_instalment_time': [3, 6, 4, 8, 5],\n",
    "    'rating': [8, 7, 9, 8, 7]\n",
    "}\n",
    "\n",
    "df_synthesized = pd.DataFrame(data)\n",
    "\n",
    "def train_and_predict_rating(X, y):\n",
    "    X_train, X_test, y_train, y_test = train_test_split(X, y, test_size=0.2, random_state=42)\n",
    "    print('X train values: \\n', X_train)\n",
    "    print('X test values: \\n', X_test)\n",
    "    print('y train values: \\n', y_train)\n",
    "    print('y test values: \\n', y_test)\n",
    "    model = GradientBoostingRegressor(random_state=42)\n",
    "    model.fit(X_train, y_train)\n",
    "\n",
    "    y_pred = model.predict(X_test)\n",
    "    mse = mean_squared_error(y_test, y_pred)\n",
    "    return mse, y_pred\n",
    "\n",
    "X = df_synthesized[['price', 'new_recall', 'new_instalment', 'new_instalment_price', 'new_instalment_time']]\n",
    "y = df_synthesized['rating']\n",
    "\n",
    "mse_result, y_pred_result = train_and_predict_rating(X, y)\n",
    "\n",
    "print(f\"Среднеквадратичная ошибка: {mse_result}\")\n",
    "print(\"Предсказанный рейтинг:\", y_pred_result)\n"
   ]
  },
  {
   "cell_type": "code",
   "execution_count": 229,
   "id": "1032e339",
   "metadata": {},
   "outputs": [
    {
     "data": {
      "text/plain": [
       "price                   2290\n",
       "new_recall               221\n",
       "new_instalment             0\n",
       "new_instalment_price     764\n",
       "new_instalment_time        3\n",
       "Name: 0, dtype: int64"
      ]
     },
     "execution_count": 229,
     "metadata": {},
     "output_type": "execute_result"
    }
   ],
   "source": [
    "df[['price', 'new_recall', 'new_instalment', 'new_instalment_price', 'new_instalment_time']].loc[0]"
   ]
  },
  {
   "cell_type": "code",
   "execution_count": 228,
   "id": "cd9329a0",
   "metadata": {},
   "outputs": [
    {
     "data": {
      "text/plain": [
       "product                 Creative Bracket UN-60\n",
       "price                                     2290\n",
       "rating                                       9\n",
       "recall                             (221 отзыв)\n",
       "instalment                         В рассрочку\n",
       "instalment_price                         764 ₸\n",
       "instalment_time                             x3\n",
       "new_recall                                 221\n",
       "new_instalment                               0\n",
       "new_instalment_price                       764\n",
       "new_instalment_time                          3\n",
       "Name: 0, dtype: object"
      ]
     },
     "execution_count": 228,
     "metadata": {},
     "output_type": "execute_result"
    }
   ],
   "source": [
    "df.loc[0]"
   ]
  },
  {
   "cell_type": "code",
   "execution_count": 237,
   "id": "73bcdbf9",
   "metadata": {},
   "outputs": [],
   "source": [
    "df_cor = df[['price', 'new_recall', 'new_instalment', 'new_instalment_price', 'new_instalment_time', 'rating']]"
   ]
  },
  {
   "cell_type": "code",
   "execution_count": 239,
   "id": "a042779f",
   "metadata": {},
   "outputs": [
    {
     "name": "stdout",
     "output_type": "stream",
     "text": [
      "3.7.1\n",
      "0.12.2\n"
     ]
    },
    {
     "name": "stderr",
     "output_type": "stream",
     "text": [
      "C:\\Users\\almat\\AppData\\Local\\Temp\\ipykernel_20572\\1183295007.py:18: MatplotlibDeprecationWarning: The seaborn styles shipped by Matplotlib are deprecated since 3.6, as they no longer correspond to the styles shipped by seaborn. However, they will remain available as 'seaborn-v0_8-<style>'. Alternatively, directly use the seaborn API instead.\n",
      "  plt.style.use('seaborn-whitegrid')\n"
     ]
    }
   ],
   "source": [
    "import matplotlib as mpl\n",
    "import matplotlib.pyplot as plt\n",
    "import seaborn as sns\n",
    "import warnings; warnings.filterwarnings(action='once')\n",
    "\n",
    "large = 22; med = 16; small = 12\n",
    "params = {'axes.titlesize': large,\n",
    "          'legend.fontsize': med,\n",
    "          'figure.figsize': (16, 10),\n",
    "          'axes.labelsize': med,\n",
    "          'axes.titlesize': med,\n",
    "          'xtick.labelsize': med,\n",
    "          'ytick.labelsize': med,\n",
    "          'figure.titlesize': large}\n",
    "plt.rcParams.update(params)\n",
    "plt.style.use('seaborn-whitegrid')\n",
    "sns.set_style(\"white\")\n",
    "%matplotlib inline\n"
   ]
  },
  {
   "cell_type": "code",
   "execution_count": 240,
   "id": "3e0d5f11",
   "metadata": {},
   "outputs": [
    {
     "data": {
      "image/png": "[encoded data removed]",
      "text/plain": [
       "<Figure size 960x800 with 2 Axes>"
      ]
     },
     "metadata": {},
     "output_type": "display_data"
    }
   ],
   "source": [
    "plt.figure(figsize=(12,10), dpi= 80)\n",
    "sns.heatmap(df_cor.corr(), xticklabels=df_cor.corr().columns, \\\n",
    "            yticklabels=df_cor.corr().columns, cmap='RdYlGn', center=0, annot=True)\n",
    "plt.title('Correlogram of mtcars', fontsize=22)\n",
    "plt.xticks(fontsize=12)\n",
    "plt.yticks(fontsize=12)\n",
    "plt.show()"
   ]
  },
  {
   "cell_type": "code",
   "execution_count": 253,
   "id": "810cf2a2",
   "metadata": {},
   "outputs": [
    {
     "data": {
      "text/plain": [
       "388"
      ]
     },
     "execution_count": 253,
     "metadata": {},
     "output_type": "execute_result"
    }
   ],
   "source": [
    "df_select.new_recall.max()"
   ]
  },
  {
   "cell_type": "code",
   "execution_count": 257,
   "id": "e41d06cd",
   "metadata": {},
   "outputs": [
    {
     "data": {
      "text/plain": [
       "<seaborn.axisgrid.FacetGrid at 0x1f39aa06c50>"
      ]
     },
     "execution_count": 257,
     "metadata": {},
     "output_type": "execute_result"
    },
    {
     "data": {
      "image/png": "[encoded data removed]",
      "text/plain": [
       "<Figure size 628.25x500 with 1 Axes>"
      ]
     },
     "metadata": {},
     "output_type": "display_data"
    }
   ],
   "source": [
    "df_select = df_cor[['new_recall', 'rating']]\n",
    "\n",
    "sns.set(style='white')\n",
    "sns.displot(df_select, kde=True, color=\"m\")"
   ]
  },
  {
   "cell_type": "code",
   "execution_count": 266,
   "id": "ded43d31",
   "metadata": {},
   "outputs": [
    {
     "data": {
      "text/plain": [
       "761"
      ]
     },
     "execution_count": 266,
     "metadata": {},
     "output_type": "execute_result"
    }
   ],
   "source": [
    "df_select.rating.value_counts().sum()-343"
   ]
  },
  {
   "cell_type": "code",
   "execution_count": 268,
   "id": "4031d3b1",
   "metadata": {},
   "outputs": [
    {
     "data": {
      "text/plain": [
       "696"
      ]
     },
     "execution_count": 268,
     "metadata": {},
     "output_type": "execute_result"
    }
   ],
   "source": [
    "df_select.new_recall.value_counts().sum()"
   ]
  },
  {
   "cell_type": "code",
   "execution_count": 261,
   "id": "f29317e7",
   "metadata": {},
   "outputs": [
    {
     "name": "stdout",
     "output_type": "stream",
     "text": [
      "0-10       893\n",
      "11-20      109\n",
      "21-30       49\n",
      "31-50       28\n",
      "51-100      15\n",
      "101-500     10\n",
      "Name: recall_group, dtype: int64\n"
     ]
    },
    {
     "name": "stderr",
     "output_type": "stream",
     "text": [
      "C:\\Users\\almat\\AppData\\Local\\Temp\\ipykernel_20572\\1187149013.py:8: SettingWithCopyWarning: \n",
      "A value is trying to be set on a copy of a slice from a DataFrame.\n",
      "Try using .loc[row_indexer,col_indexer] = value instead\n",
      "\n",
      "See the caveats in the documentation: https://pandas.pydata.org/pandas-docs/stable/user_guide/indexing.html#returning-a-view-versus-a-copy\n",
      "  df_select['recall_group'] = pd.cut(df_select['new_recall'], bins=bins, labels=categories, include_lowest=True)\n"
     ]
    }
   ],
   "source": [
    "bins = [0, 10, 20, 30, 50, 100, 500]\n",
    "\n",
    "categories_recall = ['0-10', '11-20', '21-30', '31-50', '51-100', '101-500']\n",
    "categories_rating = [i for i in range(11)]\n",
    "\n",
    "df_select['recall_group'] = pd.cut(df_select['new_recall'], bins=bins, labels=categories, include_lowest=True)\n",
    "df_select['rating_group'] = pd.cut(df_select['rating'], bins=bins, labels=categories, include_lowest=True)\n",
    "\n",
    "group_counts = df_select['recall_group'].value_counts()\n",
    "print(group_counts)"
   ]
  },
  {
   "cell_type": "code",
   "execution_count": 276,
   "id": "baf3123b",
   "metadata": {},
   "outputs": [
    {
     "name": "stdout",
     "output_type": "stream",
     "text": [
      "<class 'pandas.core.frame.DataFrame'>\n",
      "Int64Index: 1104 entries, 0 to 1103\n",
      "Data columns (total 11 columns):\n",
      " #   Column                Non-Null Count  Dtype \n",
      "---  ------                --------------  ----- \n",
      " 0   product               1104 non-null   object\n",
      " 1   price                 1104 non-null   int64 \n",
      " 2   rating                1104 non-null   int64 \n",
      " 3   recall                696 non-null    object\n",
      " 4   instalment            1104 non-null   object\n",
      " 5   instalment_price      1104 non-null   object\n",
      " 6   instalment_time       1104 non-null   object\n",
      " 7   new_recall            1104 non-null   int32 \n",
      " 8   new_instalment        1104 non-null   int64 \n",
      " 9   new_instalment_price  1104 non-null   int32 \n",
      " 10  new_instalment_time   1104 non-null   int32 \n",
      "dtypes: int32(3), int64(3), object(5)\n",
      "memory usage: 122.9+ KB\n"
     ]
    }
   ],
   "source": [
    "df.info()"
   ]
  },
  {
   "cell_type": "code",
   "execution_count": 280,
   "id": "dfb5a3d8",
   "metadata": {},
   "outputs": [
    {
     "data": {
      "text/html": [
       "<div>\n",
       "<style scoped>\n",
       "    .dataframe tbody tr th:only-of-type {\n",
       "        vertical-align: middle;\n",
       "    }\n",
       "\n",
       "    .dataframe tbody tr th {\n",
       "        vertical-align: top;\n",
       "    }\n",
       "\n",
       "    .dataframe thead th {\n",
       "        text-align: right;\n",
       "    }\n",
       "</style>\n",
       "<table border=\"1\" class=\"dataframe\">\n",
       "  <thead>\n",
       "    <tr style=\"text-align: right;\">\n",
       "      <th></th>\n",
       "      <th>product</th>\n",
       "      <th>price</th>\n",
       "      <th>rating</th>\n",
       "      <th>recall</th>\n",
       "      <th>instalment</th>\n",
       "      <th>instalment_price</th>\n",
       "      <th>instalment_time</th>\n",
       "      <th>new_recall</th>\n",
       "      <th>new_instalment</th>\n",
       "      <th>new_instalment_price</th>\n",
       "      <th>new_instalment_time</th>\n",
       "    </tr>\n",
       "  </thead>\n",
       "  <tbody>\n",
       "    <tr>\n",
       "      <th>85</th>\n",
       "      <td>HP 15s-fq5033ci 725V9EA серебристый</td>\n",
       "      <td>259888</td>\n",
       "      <td>10</td>\n",
       "      <td>&lt;NA&gt;</td>\n",
       "      <td>В кредит</td>\n",
       "      <td>16 443 ₸</td>\n",
       "      <td>x24</td>\n",
       "      <td>0</td>\n",
       "      <td>1</td>\n",
       "      <td>16443</td>\n",
       "      <td>24</td>\n",
       "    </tr>\n",
       "    <tr>\n",
       "      <th>125</th>\n",
       "      <td>Acer Extensa 15 EX215-31-C1JG NX.EFTER.00F черный</td>\n",
       "      <td>147700</td>\n",
       "      <td>10</td>\n",
       "      <td>&lt;NA&gt;</td>\n",
       "      <td>В кредит</td>\n",
       "      <td>9 345 ₸</td>\n",
       "      <td>x24</td>\n",
       "      <td>0</td>\n",
       "      <td>1</td>\n",
       "      <td>9345</td>\n",
       "      <td>24</td>\n",
       "    </tr>\n",
       "    <tr>\n",
       "      <th>137</th>\n",
       "      <td>Acer Extensa 15 EX215-31-C1JG NX.EFTER.00F черный</td>\n",
       "      <td>147700</td>\n",
       "      <td>10</td>\n",
       "      <td>&lt;NA&gt;</td>\n",
       "      <td>В кредит</td>\n",
       "      <td>9 345 ₸</td>\n",
       "      <td>x24</td>\n",
       "      <td>0</td>\n",
       "      <td>1</td>\n",
       "      <td>9345</td>\n",
       "      <td>24</td>\n",
       "    </tr>\n",
       "    <tr>\n",
       "      <th>184</th>\n",
       "      <td>Lenovo IdeaPad 3 15ADA6 82KR00BRRK серый</td>\n",
       "      <td>146989</td>\n",
       "      <td>10</td>\n",
       "      <td>&lt;NA&gt;</td>\n",
       "      <td>В кредит</td>\n",
       "      <td>9 300 ₸</td>\n",
       "      <td>x24</td>\n",
       "      <td>0</td>\n",
       "      <td>1</td>\n",
       "      <td>9300</td>\n",
       "      <td>24</td>\n",
       "    </tr>\n",
       "    <tr>\n",
       "      <th>205</th>\n",
       "      <td>Aсer Aspire A315-56-53DR NX.HS5ER.012 черный</td>\n",
       "      <td>264695</td>\n",
       "      <td>10</td>\n",
       "      <td>&lt;NA&gt;</td>\n",
       "      <td>В кредит</td>\n",
       "      <td>16 747 ₸</td>\n",
       "      <td>x24</td>\n",
       "      <td>0</td>\n",
       "      <td>1</td>\n",
       "      <td>16747</td>\n",
       "      <td>24</td>\n",
       "    </tr>\n",
       "    <tr>\n",
       "      <th>...</th>\n",
       "      <td>...</td>\n",
       "      <td>...</td>\n",
       "      <td>...</td>\n",
       "      <td>...</td>\n",
       "      <td>...</td>\n",
       "      <td>...</td>\n",
       "      <td>...</td>\n",
       "      <td>...</td>\n",
       "      <td>...</td>\n",
       "      <td>...</td>\n",
       "      <td>...</td>\n",
       "    </tr>\n",
       "    <tr>\n",
       "      <th>1055</th>\n",
       "      <td>Lenovo TP T590 20N4004DRT черный</td>\n",
       "      <td>590000</td>\n",
       "      <td>10</td>\n",
       "      <td>&lt;NA&gt;</td>\n",
       "      <td>В кредит</td>\n",
       "      <td>37 328 ₸</td>\n",
       "      <td>x24</td>\n",
       "      <td>0</td>\n",
       "      <td>1</td>\n",
       "      <td>37328</td>\n",
       "      <td>24</td>\n",
       "    </tr>\n",
       "    <tr>\n",
       "      <th>1086</th>\n",
       "      <td>HP Omen 17-ck1010ci 6K318EA черный</td>\n",
       "      <td>1904590</td>\n",
       "      <td>10</td>\n",
       "      <td>&lt;NA&gt;</td>\n",
       "      <td>В кредит</td>\n",
       "      <td>120 497 ₸</td>\n",
       "      <td>x24</td>\n",
       "      <td>0</td>\n",
       "      <td>1</td>\n",
       "      <td>120497</td>\n",
       "      <td>24</td>\n",
       "    </tr>\n",
       "    <tr>\n",
       "      <th>1087</th>\n",
       "      <td>Lenovo TP T590 20N4004DRT черный</td>\n",
       "      <td>590000</td>\n",
       "      <td>10</td>\n",
       "      <td>&lt;NA&gt;</td>\n",
       "      <td>В кредит</td>\n",
       "      <td>37 328 ₸</td>\n",
       "      <td>x24</td>\n",
       "      <td>0</td>\n",
       "      <td>1</td>\n",
       "      <td>37328</td>\n",
       "      <td>24</td>\n",
       "    </tr>\n",
       "    <tr>\n",
       "      <th>1094</th>\n",
       "      <td>Acer Extensa 15 EX215-54-36D0 NX.EGJER.00H черный</td>\n",
       "      <td>280990</td>\n",
       "      <td>10</td>\n",
       "      <td>&lt;NA&gt;</td>\n",
       "      <td>В кредит</td>\n",
       "      <td>17 778 ₸</td>\n",
       "      <td>x24</td>\n",
       "      <td>0</td>\n",
       "      <td>1</td>\n",
       "      <td>17778</td>\n",
       "      <td>24</td>\n",
       "    </tr>\n",
       "    <tr>\n",
       "      <th>1100</th>\n",
       "      <td>ASUS X509MA-BR113T 90NB0Q32-M03680 серый</td>\n",
       "      <td>229990</td>\n",
       "      <td>10</td>\n",
       "      <td>&lt;NA&gt;</td>\n",
       "      <td>В кредит</td>\n",
       "      <td>14 551 ₸</td>\n",
       "      <td>x24</td>\n",
       "      <td>0</td>\n",
       "      <td>1</td>\n",
       "      <td>14551</td>\n",
       "      <td>24</td>\n",
       "    </tr>\n",
       "  </tbody>\n",
       "</table>\n",
       "<p>65 rows × 11 columns</p>\n",
       "</div>"
      ],
      "text/plain": [
       "                                                product    price  rating  \\\n",
       "85                  HP 15s-fq5033ci 725V9EA серебристый   259888      10   \n",
       "125   Acer Extensa 15 EX215-31-C1JG NX.EFTER.00F черный   147700      10   \n",
       "137   Acer Extensa 15 EX215-31-C1JG NX.EFTER.00F черный   147700      10   \n",
       "184            Lenovo IdeaPad 3 15ADA6 82KR00BRRK серый   146989      10   \n",
       "205        Aсer Aspire A315-56-53DR NX.HS5ER.012 черный   264695      10   \n",
       "...                                                 ...      ...     ...   \n",
       "1055                   Lenovo TP T590 20N4004DRT черный   590000      10   \n",
       "1086                 HP Omen 17-ck1010ci 6K318EA черный  1904590      10   \n",
       "1087                   Lenovo TP T590 20N4004DRT черный   590000      10   \n",
       "1094  Acer Extensa 15 EX215-54-36D0 NX.EGJER.00H черный   280990      10   \n",
       "1100           ASUS X509MA-BR113T 90NB0Q32-M03680 серый   229990      10   \n",
       "\n",
       "     recall instalment instalment_price instalment_time  new_recall  \\\n",
       "85     <NA>   В кредит         16 443 ₸             x24           0   \n",
       "125    <NA>   В кредит          9 345 ₸             x24           0   \n",
       "137    <NA>   В кредит          9 345 ₸             x24           0   \n",
       "184    <NA>   В кредит          9 300 ₸             x24           0   \n",
       "205    <NA>   В кредит         16 747 ₸             x24           0   \n",
       "...     ...        ...              ...             ...         ...   \n",
       "1055   <NA>   В кредит         37 328 ₸             x24           0   \n",
       "1086   <NA>   В кредит        120 497 ₸             x24           0   \n",
       "1087   <NA>   В кредит         37 328 ₸             x24           0   \n",
       "1094   <NA>   В кредит         17 778 ₸             x24           0   \n",
       "1100   <NA>   В кредит         14 551 ₸             x24           0   \n",
       "\n",
       "      new_instalment  new_instalment_price  new_instalment_time  \n",
       "85                 1                 16443                   24  \n",
       "125                1                  9345                   24  \n",
       "137                1                  9345                   24  \n",
       "184                1                  9300                   24  \n",
       "205                1                 16747                   24  \n",
       "...              ...                   ...                  ...  \n",
       "1055               1                 37328                   24  \n",
       "1086               1                120497                   24  \n",
       "1087               1                 37328                   24  \n",
       "1094               1                 17778                   24  \n",
       "1100               1                 14551                   24  \n",
       "\n",
       "[65 rows x 11 columns]"
      ]
     },
     "execution_count": 280,
     "metadata": {},
     "output_type": "execute_result"
    }
   ],
   "source": [
    "df.query('new_recall== 0 & rating != 0') # Почистить данные от этих значений"
   ]
  },
  {
   "cell_type": "code",
   "execution_count": 1,
   "id": "2b51a085",
   "metadata": {},
   "outputs": [
    {
     "name": "stdout",
     "output_type": "stream",
     "text": [
      "Note: you may need to restart the kernel to use updated packages.\n"
     ]
    }
   ],
   "source": [
    "pip freeze > requirements1.txt"
   ]
  }
 ],
 "metadata": {
  "kernelspec": {
   "display_name": "Python 3 (ipykernel)",
   "language": "python",
   "name": "python3"
  },
  "language_info": {
   "codemirror_mode": {
    "name": "ipython",
    "version": 3
   },
   "file_extension": ".py",
   "mimetype": "text/x-python",
   "name": "python",
   "nbconvert_exporter": "python",
   "pygments_lexer": "ipython3",
   "version": "3.11.3"
  }
 },
 "nbformat": 4,
 "nbformat_minor": 5
}
